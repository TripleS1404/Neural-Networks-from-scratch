{
 "cells": [
  {
   "cell_type": "markdown",
   "id": "d181df8f-7f66-42c7-b73f-5f2c20b07de1",
   "metadata": {},
   "source": [
    "Different activation function implementation"
   ]
  },
  {
   "cell_type": "code",
   "execution_count": 1,
   "id": "7a9fd404-33d7-4f02-9eba-49401568e5b3",
   "metadata": {},
   "outputs": [],
   "source": [
    "import numpy as np"
   ]
  },
  {
   "cell_type": "markdown",
   "id": "c9358e3c-5851-4ddf-aee7-c452b729842a",
   "metadata": {},
   "source": [
    "ReLU Activation Function"
   ]
  },
  {
   "cell_type": "code",
   "execution_count": 2,
   "id": "9c34041e-129e-4ca8-b601-86bbc32ee619",
   "metadata": {},
   "outputs": [],
   "source": [
    "inputs = [0,2,-1,5,8,12,-79,-5875,1254]\n",
    "\n",
    "class Activation_ReLU:\n",
    "    def forward(self,inputs):\n",
    "        self.output = np.maximum(0,inputs)"
   ]
  },
  {
   "cell_type": "code",
   "execution_count": 3,
   "id": "64d7001c-55d2-4efa-8c62-a7bab069d6bc",
   "metadata": {},
   "outputs": [],
   "source": [
    "activation_relu=Activation_ReLU()"
   ]
  },
  {
   "cell_type": "code",
   "execution_count": 5,
   "id": "d1456557-1f99-43af-8e33-cc56026059cd",
   "metadata": {},
   "outputs": [
    {
     "name": "stdout",
     "output_type": "stream",
     "text": [
      "[   0    2    0    5    8   12    0    0 1254]\n"
     ]
    }
   ],
   "source": [
    "activation_relu.forward(inputs)\n",
    "print(activation_relu.output)"
   ]
  },
  {
   "cell_type": "markdown",
   "id": "a36de271-74d6-44ff-ad09-241ddd41ecf5",
   "metadata": {},
   "source": [
    "Softmax Activation Function"
   ]
  },
  {
   "cell_type": "code",
   "execution_count": 6,
   "id": "d47c7662-ba7e-4566-9b6c-6e6ad5b1c1a6",
   "metadata": {},
   "outputs": [],
   "source": [
    "class Activation_softmax:\n",
    "    def forward(self,inputs):\n",
    "        exp_values=np.exp(inputs-np.max(inputs,axis=1,keepdims=True))\n",
    "        prob=exp_values/np.sum(exp_values,axis=1,keepdims=True)\n",
    "        self.output=prob"
   ]
  },
  {
   "cell_type": "code",
   "execution_count": 7,
   "id": "a2bc4130-45bc-48d1-adc1-4b6becb7b915",
   "metadata": {},
   "outputs": [],
   "source": [
    "inputs1=[[1,2,3,2.5],\n",
    "         [2.0,-54.0,-3.5,7],\n",
    "         [-1.5,2.7,3.3,-0.8]]\n",
    "activation_softmax=Activation_softmax()\n",
    "activation_softmax.forward(inputs1)"
   ]
  },
  {
   "cell_type": "code",
   "execution_count": 8,
   "id": "4378bb83-ee27-41e4-9702-27abca6bd809",
   "metadata": {},
   "outputs": [
    {
     "name": "stdout",
     "output_type": "stream",
     "text": [
      "[[6.41476854e-02 1.74371488e-01 4.73990846e-01 2.87489981e-01]\n",
      " [6.69266787e-03 3.19969282e-27 2.73514039e-05 9.93279981e-01]\n",
      " [5.22983828e-03 3.48758727e-01 6.35479834e-01 1.05316010e-02]]\n"
     ]
    }
   ],
   "source": [
    "print(activation_softmax.output)"
   ]
  },
  {
   "cell_type": "markdown",
   "id": "45e7f4cb-2f95-49d3-b7e0-ed3fd01c5ce1",
   "metadata": {},
   "source": [
    "Sigmoid activation function"
   ]
  },
  {
   "cell_type": "code",
   "execution_count": 9,
   "id": "8dd7bb1c-81e5-4370-8191-bca5ab0884b1",
   "metadata": {},
   "outputs": [],
   "source": [
    "class Activation_sigmoid:\n",
    "    def forward(self, inputs):\n",
    "        self.output = (1 / (1 + np.exp(-inputs))) "
   ]
  },
  {
   "cell_type": "code",
   "execution_count": 10,
   "id": "0a218f84-9979-4333-bf05-080953a75548",
   "metadata": {},
   "outputs": [],
   "source": [
    "activation_sigmoid=Activation_sigmoid()"
   ]
  },
  {
   "cell_type": "code",
   "execution_count": 11,
   "id": "a2df95f8-0c79-4038-94db-bce7f5a816c6",
   "metadata": {},
   "outputs": [],
   "source": [
    "inputs2=np.array([-7,2,3.5,5,8.9,-78])"
   ]
  },
  {
   "cell_type": "code",
   "execution_count": 12,
   "id": "863992ab-2b54-4fa7-97ac-9f7aa65f5207",
   "metadata": {},
   "outputs": [
    {
     "name": "stdout",
     "output_type": "stream",
     "text": [
      "[9.11051194e-04 8.80797078e-01 9.70687769e-01 9.93307149e-01\n",
      " 9.99863630e-01 1.33361482e-34]\n"
     ]
    }
   ],
   "source": [
    "activation_sigmoid.forward(inputs2)\n",
    "print(activation_sigmoid.output)"
   ]
  },
  {
   "cell_type": "markdown",
   "id": "7d4d546f-9bcd-4407-8986-6168323fc4cc",
   "metadata": {},
   "source": [
    "Linear Activation function"
   ]
  },
  {
   "cell_type": "code",
   "execution_count": 13,
   "id": "3f09e4f3-a2c2-46f2-a134-f8a08272cb22",
   "metadata": {},
   "outputs": [],
   "source": [
    "class Activation_Linear:\n",
    "    def forward(self,inputs):\n",
    "        self.output=inputs"
   ]
  },
  {
   "cell_type": "code",
   "execution_count": 14,
   "id": "c148a68e-2e81-4afd-a382-95669b87572c",
   "metadata": {},
   "outputs": [],
   "source": [
    "inputs3=[-9,5,7,-16]\n",
    "activation_linear=Activation_Linear()"
   ]
  },
  {
   "cell_type": "code",
   "execution_count": 15,
   "id": "8eef4c4e-b3b3-4127-b13b-0098c5ab883a",
   "metadata": {},
   "outputs": [
    {
     "name": "stdout",
     "output_type": "stream",
     "text": [
      "[-9, 5, 7, -16]\n"
     ]
    }
   ],
   "source": [
    "activation_linear.forward(inputs3)\n",
    "print(activation_linear.output)"
   ]
  }
 ],
 "metadata": {
  "kernelspec": {
   "display_name": "Python 3 (ipykernel)",
   "language": "python",
   "name": "python3"
  },
  "language_info": {
   "codemirror_mode": {
    "name": "ipython",
    "version": 3
   },
   "file_extension": ".py",
   "mimetype": "text/x-python",
   "name": "python",
   "nbconvert_exporter": "python",
   "pygments_lexer": "ipython3",
   "version": "3.13.5"
  }
 },
 "nbformat": 4,
 "nbformat_minor": 5
}
