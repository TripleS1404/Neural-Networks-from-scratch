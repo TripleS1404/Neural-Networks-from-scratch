{
 "cells": [
  {
   "cell_type": "code",
   "execution_count": 1,
   "id": "41eed74d",
   "metadata": {},
   "outputs": [],
   "source": [
    "import numpy as np\n"
   ]
  },
  {
   "cell_type": "code",
   "execution_count": 2,
   "id": "233c009c",
   "metadata": {},
   "outputs": [],
   "source": [
    "import numpy as np\n",
    "import matplotlib.pyplot as plt\n",
    "\n",
    "def create_spiral_data(points_per_class=100, num_classes=2, noise=0.5):\n",
    "    X = []\n",
    "    y = []\n",
    "    for class_number in range(num_classes):\n",
    "        ix = range(points_per_class * class_number, points_per_class * (class_number + 1))\n",
    "        r = np.linspace(0.0, 1, points_per_class)  # radius\n",
    "        t = np.linspace(class_number * 4, (class_number + 1) * 4, points_per_class) + np.random.randn(points_per_class) * noise  # theta\n",
    "        x1 = r * np.sin(t * 2.5)\n",
    "        x2 = r * np.cos(t * 2.5)\n",
    "        X.append(np.c_[x1, x2])\n",
    "        y.append(np.full(points_per_class, class_number))\n",
    "    \n",
    "    X = np.concatenate(X)\n",
    "    y = np.concatenate(y)\n",
    "    return X, y\n",
    "\n"
   ]
  },
  {
   "cell_type": "code",
   "execution_count": 5,
   "id": "7cb30373",
   "metadata": {},
   "outputs": [
    {
     "name": "stdout",
     "output_type": "stream",
     "text": [
      "[[ 0.00000000e+00  0.00000000e+00  0.00000000e+00]\n",
      " [ 8.61017375e-05  7.34465049e-05 -1.09171937e-04]\n",
      " [ 1.73438898e-04  1.03664036e-04 -2.08250219e-04]\n",
      " [ 7.99728316e-05 -1.68528390e-04 -3.90630892e-05]\n",
      " [ 3.04395882e-04  3.67908754e-04 -4.14460136e-04]\n",
      " [ 2.90587592e-04 -8.94067337e-05 -2.79637850e-04]\n",
      " [ 1.13767717e-04  5.40521670e-04 -2.61022222e-04]]\n"
     ]
    }
   ],
   "source": [
    "class Dense_Layer:\n",
    "    def __init__(self,n_inputs,n_neurons):\n",
    "        self.weights=0.01*np.random.randn(n_inputs,n_neurons)\n",
    "        self.biases=np.zeros((1,n_neurons))\n",
    "    \n",
    "    def forward(self,n_inputs):\n",
    "        self.outputs=np.dot(n_inputs,self.weights)+self.biases\n",
    "        \n",
    "x,y=create_spiral_data(points_per_class=100, num_classes=3)    \n",
    "\n",
    "dense1=Dense_Layer(2,3)\n",
    "\n",
    "dense1.forward(x)\n",
    "\n",
    "print(dense1.outputs[:7])\n"
   ]
  },
  {
   "cell_type": "code",
   "execution_count": 7,
   "id": "6c1f5b73",
   "metadata": {},
   "outputs": [],
   "source": [
    "# Implementing RelU\n",
    "\n",
    "inputs=[0,2,-1,3.3,-2.7,1.1,2.2,-100]\n",
    "\n",
    "class activation_relu:\n",
    "    def forward(self,input):\n",
    "        output=np.maximum(0,inputs)"
   ]
  },
  {
   "cell_type": "code",
   "execution_count": 8,
   "id": "421f9ebb",
   "metadata": {},
   "outputs": [],
   "source": [
    "class activation_softmax:\n",
    "    def forward(self,input):\n",
    "        exp_val=np.exp(input-np.max(input,axis=1,keepdims=True))\n",
    "        \n",
    "        probabilites=exp_val/np.sum(exp_val,axis=1,keepdims=True)\n",
    "        \n",
    "        self.output= probabilities"
   ]
  },
  {
   "cell_type": "code",
   "execution_count": null,
   "id": "3b6d2a9b",
   "metadata": {},
   "outputs": [],
   "source": []
  }
 ],
 "metadata": {
  "kernelspec": {
   "display_name": "Python 3 (ipykernel)",
   "language": "python",
   "name": "python3"
  },
  "language_info": {
   "codemirror_mode": {
    "name": "ipython",
    "version": 3
   },
   "file_extension": ".py",
   "mimetype": "text/x-python",
   "name": "python",
   "nbconvert_exporter": "python",
   "pygments_lexer": "ipython3",
   "version": "3.10.9"
  }
 },
 "nbformat": 4,
 "nbformat_minor": 5
}
